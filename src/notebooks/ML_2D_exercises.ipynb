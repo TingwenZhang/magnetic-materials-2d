{
 "cells": [
  {
   "cell_type": "markdown",
   "metadata": {
    "id": "zJOS7iVgpzGo"
   },
   "source": [
    "# Machine Learning Approaches for Magnetic Characterization\n",
    "### Two-dimensional magnetic materials\n",
    "Trevor David Rhone, Rensselaer Polytechnic Institute"
   ]
  },
  {
   "cell_type": "code",
   "execution_count": null,
   "metadata": {
    "id": "m6pLh9wbpur2"
   },
   "outputs": [],
   "source": [
    "# import python modules\n",
    "import numpy as np\n",
    "import matplotlib.pyplot as plt\n",
    "import pandas as pd\n",
    "from sklearn.linear_model import LinearRegression\n",
    "import os"
   ]
  },
  {
   "cell_type": "markdown",
   "metadata": {
    "id": "gEemsLonqD26"
   },
   "source": [
    "### Download 2D magnetic materials formation energies data set:\n",
    "\n",
    "Download data from :\n",
    "https://archive.materialscloud.org/record/2019.0020/v1\n",
    "\n",
    "Description of data and corresponding study can be found here:\n",
    "https://www.nature.com/articles/s41598-020-72811-z\n",
    "\n",
    "- save the file to your google drive (with colab) or your local drive (jupyter notebook).\n",
    "- Can also upload from github: https://github.com/trevorguru/materials_informatics_tutorial"
   ]
  },
  {
   "cell_type": "code",
   "execution_count": null,
   "metadata": {
    "colab": {
     "base_uri": "https://localhost:8080/"
    },
    "id": "ggCwERf4tZMd",
    "outputId": "ac80188b-fe66-45c4-fd74-3eff32f8a082"
   },
   "outputs": [],
   "source": [
    "from google.colab import drive\n",
    "drive.mount('/content/drive')"
   ]
  },
  {
   "cell_type": "markdown",
   "metadata": {
    "id": "wSYZQY3TwX4O"
   },
   "source": [
    "Verify mount and check path for the csv file. Change the path below as needed."
   ]
  },
  {
   "cell_type": "code",
   "execution_count": null,
   "metadata": {
    "colab": {
     "base_uri": "https://localhost:8080/"
    },
    "id": "N3a_uSXTu5qB",
    "outputId": "746130bc-5b26-489d-b275-a25095af5990"
   },
   "outputs": [],
   "source": [
    "ls drive/MyDrive/ML_2D_materials_workshop/"
   ]
  },
  {
   "cell_type": "markdown",
   "metadata": {
    "id": "HNA0RD256GmH"
   },
   "source": [
    "Open and load \"magneticmoment_Ef_data.csv\" using pandas."
   ]
  },
  {
   "cell_type": "code",
   "execution_count": null,
   "metadata": {
    "id": "atY8SEhXqBkx"
   },
   "outputs": [],
   "source": [
    "# Create dataframe of \"magneticmoment_Ef_data.csv\" using pandas.\n",
    "# Change the path to magneticmoment_Ef_data.csv as needed.\n",
    "data_path = \"drive/MyDrive/ML_2D_materials_workshop/magneticmoment_Ef_data.csv\"\n",
    "df = pd.read_csv(data_path)"
   ]
  },
  {
   "cell_type": "markdown",
   "metadata": {
    "id": "neDeJU_zsdGl"
   },
   "source": [
    "Explore the pandas object by examinging the columns:\n",
    "- df.column()\n",
    "\n",
    "A summary of the dataframe:\n",
    "- df.head()\n"
   ]
  },
  {
   "cell_type": "code",
   "execution_count": null,
   "metadata": {
    "colab": {
     "base_uri": "https://localhost:8080/"
    },
    "id": "X275lM_FxFdJ",
    "outputId": "6302f2c3-ae7b-44bc-e4c9-07b277071d7d"
   },
   "outputs": [],
   "source": [
    "df.columns"
   ]
  },
  {
   "cell_type": "code",
   "execution_count": null,
   "metadata": {
    "colab": {
     "base_uri": "https://localhost:8080/",
     "height": 468
    },
    "id": "rixumV-ixGmT",
    "outputId": "a6174777-ce61-458c-9341-e7cb1affd566"
   },
   "outputs": [],
   "source": [
    "df.head(n=3)"
   ]
  },
  {
   "cell_type": "markdown",
   "metadata": {
    "id": "mLRglduTlGBd"
   },
   "source": [
    "Consider the following target property, y and descriptors, X.\n",
    "\n",
    "y --> 'formation_energy'\n",
    "\n",
    "X --> 'std_ion', 'nvalence_avg', 'dipole_max_dif', 'dipole_std_dif','atomic_vol_max_dif','atomic_rad_max_dif'\n",
    "\n",
    "- Create X and y data\n",
    "- Perform data visualization"
   ]
  },
  {
   "cell_type": "markdown",
   "metadata": {
    "id": "-G5q1Xclr54G"
   },
   "source": [
    "### Data visualization\n",
    "Task #0"
   ]
  },
  {
   "cell_type": "code",
   "execution_count": null,
   "metadata": {
    "colab": {
     "base_uri": "https://localhost:8080/",
     "height": 279
    },
    "id": "s_3d8sdJp6aa",
    "outputId": "0f8ab063-7353-484a-b74b-f0d2b45563a4"
   },
   "outputs": [],
   "source": [
    "# Visualize your data before attempting model fitting:\n",
    "X = df[['dipole_max_dif']]\n",
    "y = df['formation_energy']\n",
    "plt.scatter(X, y, alpha=0.5)\n",
    "plt.xlabel(\"Dipole polarizability - maximum difference\")\n",
    "plt.ylabel(\"Formation energy [eV]\")\n",
    "plt.show()"
   ]
  },
  {
   "cell_type": "code",
   "execution_count": null,
   "metadata": {
    "id": "hQlEhuydrekj"
   },
   "outputs": [],
   "source": [
    "# Visualize more deacriptors:\n",
    "\n",
    "# Type your code below\n",
    "# Use subplots to display muptiple plots side by side:\n",
    "# Modify the following code\n",
    "# ------\n",
    "# plt.subplots(2,1,1)\n",
    "# plt.scatter(df['column_name'], df['column_name'])\n",
    "# plt.subplots(2,1,2)\n",
    "# plt.scatter(df['column_name'], df['column_name'])"
   ]
  },
  {
   "cell_type": "markdown",
   "metadata": {
    "id": "3kWnPv5E0URK"
   },
   "source": [
    "## Model creation and prediction\n",
    "### Linear regression"
   ]
  },
  {
   "cell_type": "markdown",
   "metadata": {
    "id": "aEBL6hw9mhkp"
   },
   "source": [
    "Task #1:\n",
    "- Do linear regression using the most important descriptor only (i.e. 'std_ion'). \n",
    "- Report the mean squared error and R^2.\n",
    "\n",
    "See the sklearn documentation for assistance:\n",
    "https://scikit-learn.org/stable/modules/generated/sklearn.linear_model.LinearRegression.html"
   ]
  },
  {
   "cell_type": "code",
   "execution_count": null,
   "metadata": {
    "colab": {
     "base_uri": "https://localhost:8080/"
    },
    "id": "akBaNJLjmUlv",
    "outputId": "8a4792a3-5557-4547-e65c-681ebca64a49"
   },
   "outputs": [],
   "source": [
    "X = df[['std_ion']] # only one descriptor\n",
    "X = np.asarray(X)\n",
    "y = df['formation_energy']\n",
    "\n",
    "reg = LinearRegression().fit(X, y) # Create model\n",
    "print(\"R^2 score\", reg.score(X, y)) # Calculate R^2\n",
    "print(\"coef_\", reg.coef_)\n",
    "print(\"intercept_\", reg.intercept_)\n",
    "X_pred = [[0.88],[0.61],[0.55],[0.85]] # Create X data for evaluation\n",
    "y_pred = reg.predict(X_pred) # make model prediction given X data\n",
    "print(\"y_pred\", y_pred)\n",
    "\n",
    "# Write a script to calculate the Mean squared error:\n",
    "# type code here"
   ]
  },
  {
   "cell_type": "code",
   "execution_count": null,
   "metadata": {
    "id": "4d0JUrzZ0EnB"
   },
   "outputs": [],
   "source": [
    "# Trying fitting with another single descriptor\n",
    "# type code here..."
   ]
  },
  {
   "cell_type": "code",
   "execution_count": null,
   "metadata": {
    "id": "KtI-ZdUEs5ET"
   },
   "outputs": [],
   "source": [
    "# Plot your model alongside the X and y data.\n",
    "# type code here..."
   ]
  },
  {
   "cell_type": "markdown",
   "metadata": {
    "id": "3eyiiEOKxQkx"
   },
   "source": [
    "\n",
    "Task #2:\n",
    "- Do linear regression using all six descriptors above.\n",
    "- Report the mean squared error and R^2.\n",
    "\n",
    "See the sklearn documentation for assistance: https://scikit-learn.org/stable/modules/generated/sklearn.linear_model.LinearRegression.html"
   ]
  },
  {
   "cell_type": "code",
   "execution_count": null,
   "metadata": {
    "id": "uXln-Se7xIeh"
   },
   "outputs": [],
   "source": [
    "# type code here..."
   ]
  },
  {
   "cell_type": "markdown",
   "metadata": {
    "id": "bGTM2bby0hnc"
   },
   "source": [
    "TASK #3:\n",
    "- Repeat the above questions but first divide your data into a training set (80%) and test set (20%). Report performance scores on both the training set and test set. \n",
    "- Use the sklearn function: train_test_split(X, y, test_size=0.33, random_state=42)\n",
    "- Import needed modules.\n",
    "https://scikit-learn.org/stable/modules/generated/sklearn.model_selection.train_test_split.html"
   ]
  },
  {
   "cell_type": "code",
   "execution_count": null,
   "metadata": {
    "id": "IbH3xp5ZNls7"
   },
   "outputs": [],
   "source": [
    "from sklearn.model_selection import train_test_split\n",
    "\n",
    "y = df['formation_energy'].values\n",
    "X = df[['std_ion']] #one descriptor\n",
    "# X = df[['std_ion', 'nvalence_avg', 'dipole_max_dif', 'dipole_std_dif','atomic_vol_max_dif','atomic_rad_max_dif']] #six descriptors\n",
    "\n",
    "# Create X_train, X_test, y_train, y_test\n",
    "\n",
    "# type code to create train/test split here:\n",
    "# X_train = \n",
    "# X_test = \n",
    "# y_train = \n",
    "# y_test = "
   ]
  },
  {
   "cell_type": "markdown",
   "metadata": {
    "id": "hLpdY4Iu0zsk"
   },
   "source": [
    "TASK #4\n",
    "- Use X_train to train a linear model \n",
    "- Generate predictions using X_test and X_train"
   ]
  },
  {
   "cell_type": "code",
   "execution_count": null,
   "metadata": {
    "id": "HfwOs7zaOD41"
   },
   "outputs": [],
   "source": [
    "# type code to create the model and to fit the model (use the training data):\n",
    "\n",
    "# type code to generate model predictions and scores (use both the training data and the test set):"
   ]
  },
  {
   "cell_type": "markdown",
   "metadata": {
    "id": "iGMy5Dui1Hwq"
   },
   "source": [
    "Task #5\n",
    "- Create a random forest regression model. Train it and generate predictions on X_train and X_test.\n",
    "- Compare the R^2 scores with those from the linear model"
   ]
  },
  {
   "cell_type": "code",
   "execution_count": null,
   "metadata": {
    "id": "KBsxsHO_1Zai"
   },
   "outputs": [],
   "source": [
    "from sklearn.ensemble import RandomForestRegressor\n",
    "\n",
    "rf_model = RandomForestRegressor(max_depth=2, random_state=0) \n",
    "# NOTE:\n",
    "# RandomForestRegressor has hyperparameters, such as max_depth, \n",
    "# which determines the size of the decision trees used to create the random forest\n",
    "\n",
    "# Modify the code below and complete the task #5\n",
    "# ------\n",
    "# rf_model.fit(X, y)\n",
    "# print(rf_model.predict([[0, 0, 0, 0]]))\n"
   ]
  },
  {
   "cell_type": "markdown",
   "metadata": {
    "id": "sP2yxwAl2HDT"
   },
   "source": [
    "Task #6\n",
    "\n",
    "Hyperparameter tuning:\n",
    "- Tune the 'max_depth' hyperparameter to optimize the random forest model\n",
    "  - Search an array of possible values of max_depth, \n",
    "  - generate a series of corresponding models, \n",
    "  - calculate the performance of each model and \n",
    "  - determine the best score"
   ]
  },
  {
   "cell_type": "code",
   "execution_count": null,
   "metadata": {
    "colab": {
     "base_uri": "https://localhost:8080/",
     "height": 282
    },
    "id": "QROAmmCP2lA2",
    "outputId": "c88998fa-ab7b-48f5-cb69-0074214200f7"
   },
   "outputs": [],
   "source": [
    "def hyper_search(X_train, y_train, X_val, y_val):\n",
    "  \"\"\" \n",
    "  function that searches evaluates a list of hyperparameters \n",
    "  \"\"\"\n",
    "  max_depth_values = np.arange(10)+1\n",
    "  print(\"Evaluate the following values for max_depth : \", max_depth_values)\n",
    "  scores = []\n",
    "  for ith, max_depth in enumerate(max_depth_values):\n",
    "    rf_model_i = RandomForestRegressor(max_depth=max_depth, n_estimators = 5, random_state=0)\n",
    "    rf_model_i.fit(X_train, y_train)\n",
    "    score = rf_model_i.score(X_val, y_val)\n",
    "    scores.append(score)\n",
    "    # print(ith, score)\n",
    "  return max_depth_values, scores\n",
    "\n",
    "X = df[['std_ion', 'nvalence_avg', 'dipole_max_dif', 'dipole_std_dif','atomic_vol_max_dif','atomic_rad_max_dif']] \n",
    "X = np.asarray(X)\n",
    "\n",
    "# Modify the code below using the training data you created previously\n",
    "# What is the best hyperparameter for the model?\n",
    "X_train = X[:100,:4]\n",
    "y_train = y[:100]\n",
    "X_val = X[50:80,:4]\n",
    "y_val = y[50:80]\n",
    "\n",
    "max_depth_values, scores = hyper_search(X_train, y_train, X_val, y_val)\n",
    "plt.scatter(max_depth_values, scores)\n",
    "# add axis labels\n",
    "plt.show()\n",
    "\n",
    "# type code to determine the best hyperparameter for the model below:\n",
    "\n",
    "# BONUS [come back to this if there's time]:\n",
    "# Modify code in function to calculate both training and validation predictions/scores\n",
    "# Plot both the training and test scores"
   ]
  },
  {
   "cell_type": "markdown",
   "metadata": {
    "id": "RVq3pvenAKm1"
   },
   "source": [
    "Notice that RandomForestRegressor() has more than one hyperparameter.\n",
    "- Do a two-dimensional grid search instead of a one-dimensional grid search as shown above. (Choose an appropriate range of values for each hyperparameter).\n",
    "- Display your results using plt.imshow() \n",
    "- Determine the best combination of hyperparameters\n",
    "- Create a model using the best combination of hyperparameters"
   ]
  },
  {
   "cell_type": "code",
   "execution_count": null,
   "metadata": {
    "id": "_yVi-Btn27Y0"
   },
   "outputs": [],
   "source": [
    "# write your code here"
   ]
  },
  {
   "cell_type": "markdown",
   "metadata": {
    "id": "SkNzFH-FApMw"
   },
   "source": [
    "TASK #7\n",
    "- Plot the DFT formation energy versus the machine learning predicted formation energy for the training set and the test set\n",
    "  - Use the machine learning model (and hyperparameters) with the best performance"
   ]
  },
  {
   "cell_type": "code",
   "execution_count": null,
   "metadata": {
    "id": "RL72frtYAz4G"
   },
   "outputs": [],
   "source": [
    "# write your code here"
   ]
  },
  {
   "cell_type": "markdown",
   "metadata": {
    "id": "bUVLI3WwA7mV"
   },
   "source": [
    "=====================================================================================\n",
    "\n",
    "CONGRATULATIONS!!! 👏\n",
    "\n",
    "You've completed the exercises and are well on your way to becoming an expert in materials informatics."
   ]
  }
 ],
 "metadata": {
  "colab": {
   "collapsed_sections": [],
   "name": "ML_2D_exercises.ipynb",
   "provenance": []
  },
  "kernelspec": {
   "display_name": "Python 3",
   "name": "python3"
  },
  "language_info": {
   "name": "python"
  }
 },
 "nbformat": 4,
 "nbformat_minor": 0
}

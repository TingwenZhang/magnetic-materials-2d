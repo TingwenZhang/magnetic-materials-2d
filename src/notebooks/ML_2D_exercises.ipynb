version https://git-lfs.github.com/spec/v1
oid sha256:2edd8b7a28c3a4b1d09575118c86384504abfcc6ffd8b1e924f526b939687c97
size 14699

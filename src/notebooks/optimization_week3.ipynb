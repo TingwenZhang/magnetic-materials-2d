version https://git-lfs.github.com/spec/v1
oid sha256:1271ead11a665a1f78bec5ce3110535d64d8daf75bc125dbe23bd79e6fb9ff06
size 31828

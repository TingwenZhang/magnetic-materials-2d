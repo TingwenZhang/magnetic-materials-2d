version https://git-lfs.github.com/spec/v1
oid sha256:dd8da75b4c0a72feeb982bc548b98a2850744f4ae1043388b305f3b6b57075cc
size 31043

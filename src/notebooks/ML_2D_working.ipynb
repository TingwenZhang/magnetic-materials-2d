{
 "cells": [
  {
   "cell_type": "markdown",
   "metadata": {
    "id": "zJOS7iVgpzGo"
   },
   "source": [
    "# Machine Learning Approaches for Magnetic Characterization\n",
    "### Two-dimensional magnetic materials\n",
    "Trevor David Rhone, Rensselaer Polytechnic Institute"
   ]
  },
  {
   "cell_type": "markdown",
   "metadata": {
    "id": "_j8wREgrqoeX"
   },
   "source": [
    "Associated tutorial can be found on YouTube:\n",
    "https://www.youtube.com/watch?v=yiyFQNWs2F4"
   ]
  },
  {
   "cell_type": "code",
   "execution_count": null,
   "metadata": {
    "id": "m6pLh9wbpur2"
   },
   "outputs": [],
   "source": [
    "# import python modules\n",
    "import numpy as np\n",
    "import matplotlib.pyplot as plt\n",
    "import pandas as pd\n",
    "import os"
   ]
  },
  {
   "cell_type": "code",
   "execution_count": null,
   "metadata": {
    "id": "Vg2J4098bd0F"
   },
   "outputs": [],
   "source": [
    "# import all machine learning functions\n",
    "from sklearn.linear_model import LinearRegression\n",
    "from sklearn.ensemble import RandomForestRegressor\n",
    "from sklearn.ensemble import ExtraTreesRegressor\n",
    "from sklearn.model_selection import train_test_split"
   ]
  },
  {
   "cell_type": "code",
   "execution_count": null,
   "metadata": {},
   "outputs": [],
   "source": [
    "# global variables\n",
    "TEST_SIZE = 0.2\n",
    "RANDOM_STATE = 42"
   ]
  },
  {
   "cell_type": "markdown",
   "metadata": {
    "id": "gEemsLonqD26"
   },
   "source": [
    "### Download 2D magnetic materials formation energies data set:\n",
    "\n",
    "Download data from :\n",
    "https://archive.materialscloud.org/record/2019.0020/v1\n",
    "\n",
    "Description of data and corresponding study can be found here:\n",
    "https://www.nature.com/articles/s41598-020-72811-z\n",
    "\n",
    "- save the file to your google drive (with colab) or your local drive (jupyter notebook).\n",
    "- Can also upload from github: https://github.com/trevorguru/materials_informatics_tutorial"
   ]
  },
  {
   "cell_type": "markdown",
   "metadata": {
    "id": "wSYZQY3TwX4O"
   },
   "source": [
    "Verify mount and check path for the csv file. Change the path below as needed."
   ]
  },
  {
   "cell_type": "markdown",
   "metadata": {
    "id": "HNA0RD256GmH"
   },
   "source": [
    "Open and load \"magneticmoment_Ef_data.csv\" using pandas."
   ]
  },
  {
   "cell_type": "code",
   "execution_count": null,
   "metadata": {
    "id": "oTXkrK-1eXvt"
   },
   "outputs": [],
   "source": [
    "df = pd.read_csv(\"../magnetic_materials_2d/data/magneticmoment_Ef_data.csv\")"
   ]
  },
  {
   "cell_type": "code",
   "execution_count": null,
   "metadata": {
    "colab": {
     "base_uri": "https://localhost:8080/"
    },
    "id": "3bA3ILN5TLK_",
    "outputId": "7d999b7e-87ce-4669-b56b-9d70468344ce"
   },
   "outputs": [],
   "source": [
    "df.columns"
   ]
  },
  {
   "cell_type": "code",
   "execution_count": null,
   "metadata": {
    "colab": {
     "base_uri": "https://localhost:8080/",
     "height": 963
    },
    "id": "vMJYpyqlNXWb",
    "outputId": "a5be2edb-167b-4217-8ab4-5b404cb6479c"
   },
   "outputs": [],
   "source": [
    "df.head(n = 6)"
   ]
  },
  {
   "cell_type": "code",
   "execution_count": null,
   "metadata": {},
   "outputs": [],
   "source": [
    "from magnetic_materials_2d.data.dictionaries import column_meaning_map, formation_energy_map, magnetic_moment_map"
   ]
  },
  {
   "cell_type": "code",
   "execution_count": null,
   "metadata": {
    "colab": {
     "base_uri": "https://localhost:8080/",
     "height": 314
    },
    "id": "vq61h-Ra05sw",
    "outputId": "861df2bd-b6fb-4d98-eabf-14d833fbe900"
   },
   "outputs": [],
   "source": [
    "# extract only the numeric descriptors\n",
    "numeric_df = df.select_dtypes(include=['float64', 'int64'])\n",
    "numeric_df.drop(columns = [\"Unnamed: 0\"], inplace = True)\n",
    "print(\"There are\", len(numeric_df.columns), \"numeric descriptors.\")\n",
    "numeric_df.head(n = 6)"
   ]
  },
  {
   "cell_type": "code",
   "execution_count": null,
   "metadata": {
    "id": "Xhva5kAUxzTb"
   },
   "outputs": [],
   "source": [
    "from magnetic_materials_2d.utils import sorted_descriptors, top12"
   ]
  },
  {
   "cell_type": "code",
   "execution_count": null,
   "metadata": {
    "colab": {
     "base_uri": "https://localhost:8080/"
    },
    "id": "7QLS9Dpleos8",
    "outputId": "9d21c19b-642b-4c9c-81ea-ec44517d59d9"
   },
   "outputs": [],
   "source": [
    "formation_energy_descriptors_linear = sorted_descriptors(numeric_df,\n",
    "                                                         formation_energy_map[\"label\"],\n",
    "                                                         LinearRegression())\n",
    "top12(formation_energy_descriptors_linear, column_meaning_map, \"formation energy\", \"linear\")"
   ]
  },
  {
   "cell_type": "code",
   "execution_count": null,
   "metadata": {
    "colab": {
     "base_uri": "https://localhost:8080/"
    },
    "id": "Xu8H2X8VdG2s",
    "outputId": "cf2e5cf1-5621-4b21-c174-4cd1269cf6dc"
   },
   "outputs": [],
   "source": [
    "formation_energy_descriptors_rf = sorted_descriptors(numeric_df,\n",
    "                                                     formation_energy_map[\"label\"],\n",
    "                                                     RandomForestRegressor(random_state = RANDOM_STATE))\n",
    "top12(formation_energy_descriptors_rf, column_meaning_map, \"formation energy\", \"random forest\")"
   ]
  },
  {
   "cell_type": "code",
   "execution_count": null,
   "metadata": {
    "colab": {
     "base_uri": "https://localhost:8080/"
    },
    "id": "OpG76Rv9qbpf",
    "outputId": "ecdb9fba-26bb-4d84-aa19-127c22c20607"
   },
   "outputs": [],
   "source": [
    "formation_energy_descriptors_et = sorted_descriptors(numeric_df,\n",
    "                                                     formation_energy_map[\"label\"],\n",
    "                                                     ExtraTreesRegressor(random_state = RANDOM_STATE))\n",
    "top12(formation_energy_descriptors_et, column_meaning_map, \"formation energy\", \"extra trees\")"
   ]
  },
  {
   "cell_type": "code",
   "execution_count": null,
   "metadata": {
    "colab": {
     "base_uri": "https://localhost:8080/"
    },
    "id": "fb5Kr-FlfRuj",
    "outputId": "e6da4084-fb4b-41e0-dd3a-fb52a1dbc36d"
   },
   "outputs": [],
   "source": [
    "magnetic_moment_descriptors_linear = sorted_descriptors(numeric_df,\n",
    "                                                        magnetic_moment_map[\"label\"],\n",
    "                                                        LinearRegression())\n",
    "top12(magnetic_moment_descriptors_linear, column_meaning_map, \"magnetic moment\", \"linear\")"
   ]
  },
  {
   "cell_type": "code",
   "execution_count": null,
   "metadata": {
    "colab": {
     "base_uri": "https://localhost:8080/"
    },
    "id": "EvaNBRqmfiDT",
    "outputId": "ebffba09-610e-4295-9ac1-a9c4330cedd1"
   },
   "outputs": [],
   "source": [
    "magnetic_moment_descriptors_rf = sorted_descriptors(numeric_df,\n",
    "                                                    magnetic_moment_map[\"label\"],\n",
    "                                                    RandomForestRegressor(random_state = RANDOM_STATE))\n",
    "top12(magnetic_moment_descriptors_rf, column_meaning_map, \"magnetic moment\", \"random forest\")"
   ]
  },
  {
   "cell_type": "code",
   "execution_count": null,
   "metadata": {
    "colab": {
     "base_uri": "https://localhost:8080/"
    },
    "id": "DrbsvNy5qxDI",
    "outputId": "470669c2-af6e-486b-9115-993c7bf0550e"
   },
   "outputs": [],
   "source": [
    "magnetic_moment_descriptors_et = sorted_descriptors(numeric_df,\n",
    "                                                    magnetic_moment_map[\"label\"],\n",
    "                                                    ExtraTreesRegressor(random_state = RANDOM_STATE))\n",
    "top12(magnetic_moment_descriptors_et, column_meaning_map, \"magnetic moment\", \"extra trees\")"
   ]
  },
  {
   "cell_type": "code",
   "execution_count": null,
   "metadata": {
    "id": "CUsl1GKNcyfN"
   },
   "outputs": [],
   "source": [
    "from magnetic_materials_2d.utils import best_descriptors, print_best_descriptors"
   ]
  },
  {
   "cell_type": "code",
   "execution_count": null,
   "metadata": {
    "colab": {
     "base_uri": "https://localhost:8080/",
     "height": 1000
    },
    "id": "nYF51wzbnxSC",
    "outputId": "6accefcf-1c1a-435b-bbe1-794b07d31926"
   },
   "outputs": [],
   "source": [
    "best_formation_energy_descriptors_linear = best_descriptors(numeric_df,\n",
    "                                                            formation_energy_descriptors_linear,\n",
    "                                                            LinearRegression(),\n",
    "                                                            formation_energy_map[\"label\"])\n",
    "print_best_descriptors(best_formation_energy_descriptors_linear,\n",
    "                       column_meaning_map,\n",
    "                       formation_energy_map[\"label\"],\n",
    "                       \"linear regression\")"
   ]
  },
  {
   "cell_type": "code",
   "execution_count": null,
   "metadata": {
    "colab": {
     "base_uri": "https://localhost:8080/",
     "height": 1000
    },
    "id": "4SoIWDg3zacR",
    "outputId": "dc717029-7b54-404e-dccc-0026939ad79d"
   },
   "outputs": [],
   "source": [
    "best_formation_energy_descriptors_rf = best_descriptors(numeric_df,\n",
    "                                                        formation_energy_descriptors_rf,\n",
    "                                                        RandomForestRegressor(random_state = RANDOM_STATE),\n",
    "                                                        formation_energy_map[\"label\"])\n",
    "print_best_descriptors(best_formation_energy_descriptors_rf,\n",
    "                       column_meaning_map,\n",
    "                       formation_energy_map[\"label\"],\n",
    "                       \"random forest\")"
   ]
  },
  {
   "cell_type": "code",
   "execution_count": null,
   "metadata": {
    "colab": {
     "base_uri": "https://localhost:8080/",
     "height": 1000
    },
    "id": "RqbScz8TrKD5",
    "outputId": "5207afa9-7266-434d-d494-576d69c71a7e"
   },
   "outputs": [],
   "source": [
    "best_formation_energy_descriptors_et = best_descriptors(numeric_df,\n",
    "                                                        formation_energy_descriptors_et,\n",
    "                                                        ExtraTreesRegressor(random_state = RANDOM_STATE),\n",
    "                                                        formation_energy_map[\"label\"])\n",
    "print_best_descriptors(best_formation_energy_descriptors_rf,\n",
    "                       column_meaning_map,\n",
    "                       formation_energy_map[\"label\"],\n",
    "                       \"extra trees\")"
   ]
  },
  {
   "cell_type": "code",
   "execution_count": null,
   "metadata": {
    "colab": {
     "base_uri": "https://localhost:8080/",
     "height": 720
    },
    "id": "LAQU9YVj0VkN",
    "outputId": "cbb2cd28-17e7-4b37-8268-993ca4e70c29"
   },
   "outputs": [],
   "source": [
    "best_magnetic_moment_descriptors_linear = best_descriptors(numeric_df,\n",
    "                                                           magnetic_moment_descriptors_linear,\n",
    "                                                           LinearRegression(),\n",
    "                                                           magnetic_moment_map[\"label\"])\n",
    "print_best_descriptors(best_magnetic_moment_descriptors_linear,\n",
    "                       column_meaning_map,\n",
    "                       magnetic_moment_map[\"label\"],\n",
    "                       \"linear regression\")"
   ]
  },
  {
   "cell_type": "code",
   "execution_count": null,
   "metadata": {
    "colab": {
     "base_uri": "https://localhost:8080/",
     "height": 859
    },
    "id": "5oRxEgCe1tvu",
    "outputId": "9bf06528-c9b4-43d1-fcce-5a009080c722"
   },
   "outputs": [],
   "source": [
    "best_magnetic_moment_descriptors_rf = best_descriptors(numeric_df,\n",
    "                                                       magnetic_moment_descriptors_rf,\n",
    "                                                       RandomForestRegressor(random_state = RANDOM_STATE),\n",
    "                                                       magnetic_moment_map[\"label\"])\n",
    "print_best_descriptors(best_magnetic_moment_descriptors_rf,\n",
    "                       column_meaning_map,\n",
    "                       magnetic_moment_map[\"label\"],\n",
    "                       \"random forest\")"
   ]
  },
  {
   "cell_type": "code",
   "execution_count": null,
   "metadata": {
    "colab": {
     "base_uri": "https://localhost:8080/",
     "height": 720
    },
    "id": "7Twd1EHD17z0",
    "outputId": "33808f6c-9482-41e5-b9c0-245c1ea73210"
   },
   "outputs": [],
   "source": [
    "best_magnetic_moment_descriptors_et = best_descriptors(numeric_df,\n",
    "                                                       magnetic_moment_descriptors_et,\n",
    "                                                       ExtraTreesRegressor(random_state = RANDOM_STATE),\n",
    "                                                       magnetic_moment_map[\"label\"])\n",
    "print_best_descriptors(best_magnetic_moment_descriptors_et,\n",
    "                       column_meaning_map,\n",
    "                       magnetic_moment_map[\"label\"],\n",
    "                       \"extra trees\")"
   ]
  },
  {
   "cell_type": "code",
   "execution_count": null,
   "metadata": {},
   "outputs": [],
   "source": [
    "from magnetic_materials_2d.utils import important_descriptors"
   ]
  },
  {
   "cell_type": "code",
   "execution_count": null,
   "metadata": {
    "colab": {
     "base_uri": "https://localhost:8080/"
    },
    "id": "U-3aVr1DQ-y7",
    "outputId": "c88f5543-d93f-4176-ee9d-391e1220cbdd"
   },
   "outputs": [],
   "source": [
    "important_descriptors_formation_energy_rf = important_descriptors(numeric_df,\n",
    "                                                                  formation_energy_map[\"label\"],\n",
    "                                                                  RandomForestRegressor(random_state = RANDOM_STATE))"
   ]
  },
  {
   "cell_type": "code",
   "execution_count": null,
   "metadata": {
    "colab": {
     "base_uri": "https://localhost:8080/"
    },
    "id": "A-OaY3ZoSiMU",
    "outputId": "d51be340-d0ff-410d-e2d2-fa12c60e3759"
   },
   "outputs": [],
   "source": [
    "important_descriptors_formation_energy_et = important_descriptors(numeric_df,\n",
    "                                                                  formation_energy_map[\"label\"],\n",
    "                                                                  ExtraTreesRegressor(random_state = RANDOM_STATE))"
   ]
  },
  {
   "cell_type": "code",
   "execution_count": null,
   "metadata": {
    "colab": {
     "base_uri": "https://localhost:8080/"
    },
    "id": "wa-bxYeDSyvu",
    "outputId": "08b8ee5c-2f65-4545-980e-3853ff8048fb"
   },
   "outputs": [],
   "source": [
    "important_descriptors_magnetic_moment_rf = important_descriptors(numeric_df,\n",
    "                                                                 magnetic_moment_map[\"label\"],\n",
    "                                                                 RandomForestRegressor(random_state = RANDOM_STATE))"
   ]
  },
  {
   "cell_type": "code",
   "execution_count": null,
   "metadata": {
    "colab": {
     "base_uri": "https://localhost:8080/"
    },
    "id": "CHMIcKAjTRlB",
    "outputId": "144fca99-0ef9-4328-a1db-f394976dd168"
   },
   "outputs": [],
   "source": [
    "important_descriptors_magnetic_moment_et = important_descriptors(numeric_df,\n",
    "                                                                 magnetic_moment_map[\"label\"],\n",
    "                                                                 ExtraTreesRegressor(random_state = RANDOM_STATE))"
   ]
  },
  {
   "cell_type": "code",
   "execution_count": null,
   "metadata": {},
   "outputs": [],
   "source": [
    "from magnetic_materials_2d.utils import optimum_importance"
   ]
  },
  {
   "cell_type": "code",
   "execution_count": null,
   "metadata": {
    "colab": {
     "base_uri": "https://localhost:8080/",
     "height": 720
    },
    "id": "DLNoMeZwzILh",
    "outputId": "7046efbb-cfbc-4e7b-c131-c2d6643ffc63"
   },
   "outputs": [],
   "source": [
    "optimum_importance_descriptors_formation_energy_rf = optimum_importance(numeric_df,\n",
    "                                                                        important_descriptors_formation_energy_rf,\n",
    "                                                                        RandomForestRegressor(random_state = RANDOM_STATE),\n",
    "                                                                        formation_energy_map[\"label\"])\n",
    "print_best_descriptors(optimum_importance_descriptors_formation_energy_rf,\n",
    "                       column_meaning_map,\n",
    "                       formation_energy_map[\"label\"],\n",
    "                       \"random forest\")"
   ]
  },
  {
   "cell_type": "code",
   "execution_count": null,
   "metadata": {
    "colab": {
     "base_uri": "https://localhost:8080/",
     "height": 1000
    },
    "id": "z7KMWurD-Wfo",
    "outputId": "0720fb68-b087-4c71-b684-95b94d785282"
   },
   "outputs": [],
   "source": [
    "optimum_importance_descriptors_formation_energy_et = optimum_importance(numeric_df,\n",
    "                                                                        important_descriptors_formation_energy_et,\n",
    "                                                                        ExtraTreesRegressor(random_state = RANDOM_STATE),\n",
    "                                                                        formation_energy_map[\"label\"])\n",
    "print_best_descriptors(optimum_importance_descriptors_formation_energy_et,\n",
    "                       column_meaning_map,\n",
    "                       formation_energy_map[\"label\"],\n",
    "                       \"extra trees\")"
   ]
  },
  {
   "cell_type": "code",
   "execution_count": null,
   "metadata": {
    "colab": {
     "base_uri": "https://localhost:8080/",
     "height": 980
    },
    "id": "doNApt2bWAgX",
    "outputId": "6e426f45-17c1-4982-c175-6047486567de"
   },
   "outputs": [],
   "source": [
    "optimum_importance_descriptors_magnetic_moment_rf = optimum_importance(numeric_df,\n",
    "                                                                        important_descriptors_magnetic_moment_rf,\n",
    "                                                                        RandomForestRegressor(random_state = RANDOM_STATE),\n",
    "                                                                        magnetic_moment_map[\"label\"])\n",
    "print_best_descriptors(optimum_importance_descriptors_magnetic_moment_rf,\n",
    "                       column_meaning_map,\n",
    "                       magnetic_moment_map[\"label\"],\n",
    "                       \"random forest\")"
   ]
  },
  {
   "cell_type": "code",
   "execution_count": null,
   "metadata": {
    "colab": {
     "base_uri": "https://localhost:8080/",
     "height": 1000
    },
    "id": "RBIIThgvWaQE",
    "outputId": "567368d6-0059-4248-905d-80e4bcb22d2a"
   },
   "outputs": [],
   "source": [
    "optimum_importance_descriptors_magnetic_moment_et = optimum_importance(numeric_df,\n",
    "                                                                        important_descriptors_magnetic_moment_et,\n",
    "                                                                        ExtraTreesRegressor(random_state = RANDOM_STATE),\n",
    "                                                                        magnetic_moment_map[\"label\"])\n",
    "print_best_descriptors(optimum_importance_descriptors_magnetic_moment_et,\n",
    "                       column_meaning_map,\n",
    "                       magnetic_moment_map[\"label\"],\n",
    "                       \"extra trees\")"
   ]
  },
  {
   "cell_type": "markdown",
   "metadata": {
    "id": "3kWnPv5E0URK"
   },
   "source": [
    "## Model creation and prediction\n",
    "### Linear regression"
   ]
  },
  {
   "cell_type": "code",
   "execution_count": null,
   "metadata": {},
   "outputs": [],
   "source": [
    "from magnetic_materials_2d.utils import print_loss, single_descriptor_regression"
   ]
  },
  {
   "cell_type": "code",
   "execution_count": null,
   "metadata": {
    "id": "d7BYdHgGpjKf"
   },
   "outputs": [],
   "source": [
    "# best_descriptor = best_formation_energy_descriptors_linear[0]\n",
    "# single_descriptor_regression(numeric_df, best_descriptor, column_meaning_map,\n",
    "#                              formation_energy_map[\"unit\"],\n",
    "#                              formation_energy_map[\"label\"],\n",
    "#                              LinearRegression())"
   ]
  },
  {
   "cell_type": "code",
   "execution_count": null,
   "metadata": {
    "id": "_21lx_p7FLtz"
   },
   "outputs": [],
   "source": [
    "# best_descriptor = best_formation_energy_descriptors_rf[0]\n",
    "# single_descriptor_regression(numeric_df, best_descriptor, column_meaning_map,\n",
    "#                              formation_energy_map[\"unit\"],\n",
    "#                              formation_energy_map[\"label\"],\n",
    "#                              RandomForestRegressor(random_state = RANDOM_STATE))"
   ]
  },
  {
   "cell_type": "code",
   "execution_count": null,
   "metadata": {
    "id": "EVRiqpH4AZKc"
   },
   "outputs": [],
   "source": [
    "# best_descriptor = best_formation_energy_descriptors_et[0]\n",
    "# single_descriptor_regression(numeric_df, best_descriptor, column_meaning_map,\n",
    "#                              formation_energy_map[\"unit\"],\n",
    "#                              formation_energy_map[\"label\"],\n",
    "#                              ExtraTreesRegressor(random_state = RANDOM_STATE))"
   ]
  },
  {
   "cell_type": "code",
   "execution_count": null,
   "metadata": {
    "id": "Hn78ehxSAfI2"
   },
   "outputs": [],
   "source": [
    "# best_descriptor = best_magnetic_moment_descriptors_linear[0]\n",
    "# single_descriptor_regression(numeric_df, best_descriptor, column_meaning_map,\n",
    "#                              magnetic_moment_map[\"unit\"],\n",
    "#                              magnetic_moment_map[\"label\"],\n",
    "#                              LinearRegression())"
   ]
  },
  {
   "cell_type": "code",
   "execution_count": null,
   "metadata": {
    "id": "3p79lBSEAyId"
   },
   "outputs": [],
   "source": [
    "# best_descriptor = best_magnetic_moment_descriptors_rf[0]\n",
    "# single_descriptor_regression(numeric_df, best_descriptor, column_meaning_map,\n",
    "#                              magnetic_moment_map[\"unit\"],\n",
    "#                              magnetic_moment_map[\"label\"],\n",
    "#                              RandomForestRegressor(random_state = RANDOM_STATE))"
   ]
  },
  {
   "cell_type": "code",
   "execution_count": null,
   "metadata": {
    "id": "0sAGx0AwAk7-"
   },
   "outputs": [],
   "source": [
    "# best_descriptor = best_magnetic_moment_descriptors_et[0]\n",
    "# single_descriptor_regression(numeric_df, best_descriptor, column_meaning_map,\n",
    "#                              magnetic_moment_map[\"unit\"],\n",
    "#                              magnetic_moment_map[\"label\"],\n",
    "#                              ExtraTreesRegressor(random_state = RANDOM_STATE))"
   ]
  },
  {
   "cell_type": "markdown",
   "metadata": {
    "id": "hLpdY4Iu0zsk"
   },
   "source": [
    "TASK #4\n",
    "- Use X_train to train a linear model\n",
    "- Generate predictions using X_test and X_train"
   ]
  },
  {
   "cell_type": "code",
   "execution_count": null,
   "metadata": {
    "id": "CHuvoqaYWeB2"
   },
   "outputs": [],
   "source": [
    "from magnetic_materials_2d.utils import test_performance"
   ]
  },
  {
   "cell_type": "code",
   "execution_count": null,
   "metadata": {
    "colab": {
     "base_uri": "https://localhost:8080/",
     "height": 1000
    },
    "id": "8wnLMKn3JGWe",
    "outputId": "26297398-ff03-447f-e3a2-c3fc4c0ecdc9"
   },
   "outputs": [],
   "source": [
    "test_performance(numeric_df,\n",
    "                 best_formation_energy_descriptors_linear,\n",
    "                 formation_energy_map[\"unit\"],\n",
    "                 formation_energy_map[\"label\"],\n",
    "                 LinearRegression())"
   ]
  },
  {
   "cell_type": "code",
   "execution_count": null,
   "metadata": {
    "colab": {
     "base_uri": "https://localhost:8080/",
     "height": 1000
    },
    "id": "L8Hnp30rKlXH",
    "outputId": "bf75e521-4771-4fe1-fc1f-47c1f9eabd1b"
   },
   "outputs": [],
   "source": [
    "test_performance(numeric_df,\n",
    "                 best_formation_energy_descriptors_rf,\n",
    "                 formation_energy_map[\"unit\"],\n",
    "                 formation_energy_map[\"label\"],\n",
    "                 RandomForestRegressor(random_state = RANDOM_STATE))"
   ]
  },
  {
   "cell_type": "code",
   "execution_count": null,
   "metadata": {
    "colab": {
     "base_uri": "https://localhost:8080/",
     "height": 1000
    },
    "id": "c9OIdNAC44r3",
    "outputId": "c0544129-bf7c-471f-d4ac-c9df9679d92c"
   },
   "outputs": [],
   "source": [
    "test_performance(numeric_df,\n",
    "                 best_formation_energy_descriptors_et,\n",
    "                 formation_energy_map[\"unit\"],\n",
    "                 formation_energy_map[\"label\"],\n",
    "                 ExtraTreesRegressor(random_state = RANDOM_STATE))"
   ]
  },
  {
   "cell_type": "code",
   "execution_count": null,
   "metadata": {
    "colab": {
     "base_uri": "https://localhost:8080/",
     "height": 1000
    },
    "id": "irxKARcwK-wp",
    "outputId": "5d6a25d7-bdfb-41d0-9d4c-7e72883206e3"
   },
   "outputs": [],
   "source": [
    "test_performance(numeric_df,\n",
    "                 best_magnetic_moment_descriptors_linear,\n",
    "                 magnetic_moment_map[\"unit\"],\n",
    "                 magnetic_moment_map[\"label\"],\n",
    "                 LinearRegression())"
   ]
  },
  {
   "cell_type": "code",
   "execution_count": null,
   "metadata": {
    "colab": {
     "base_uri": "https://localhost:8080/",
     "height": 1000
    },
    "id": "9LeGdAfgLSVM",
    "outputId": "899573e3-8505-4ca2-d387-f65e88eea231"
   },
   "outputs": [],
   "source": [
    "test_performance(numeric_df,\n",
    "                 best_magnetic_moment_descriptors_rf,\n",
    "                 magnetic_moment_map[\"unit\"],\n",
    "                 magnetic_moment_map[\"label\"],\n",
    "                 RandomForestRegressor(random_state = RANDOM_STATE))"
   ]
  },
  {
   "cell_type": "code",
   "execution_count": null,
   "metadata": {
    "colab": {
     "base_uri": "https://localhost:8080/",
     "height": 1000
    },
    "id": "vwcOQBxr4dmC",
    "outputId": "1fb219fc-aaba-4f72-e7fd-9fb48ab76503"
   },
   "outputs": [],
   "source": [
    "test_performance(numeric_df,\n",
    "                 best_magnetic_moment_descriptors_et,\n",
    "                 magnetic_moment_map[\"unit\"],\n",
    "                 magnetic_moment_map[\"label\"],\n",
    "                 ExtraTreesRegressor(random_state = RANDOM_STATE))"
   ]
  },
  {
   "cell_type": "markdown",
   "metadata": {
    "id": "RVq3pvenAKm1"
   },
   "source": [
    "Notice that RandomForestRegressor() has more than one hyperparameter.\n",
    "- Do a two-dimensional grid search instead of a one-dimensional grid search as shown above. (Choose an appropriate range of values for each hyperparameter).\n",
    "- Display your results using plt.imshow()\n",
    "- Determine the best combination of hyperparameters\n",
    "- Create a model using the best combination of hyperparameters"
   ]
  },
  {
   "cell_type": "markdown",
   "metadata": {
    "id": "SkNzFH-FApMw"
   },
   "source": [
    "TASK #7\n",
    "- Plot the DFT formation energy versus the machine learning predicted formation energy for the training set and the test set\n",
    "  - Use the machine learning model (and hyperparameters) with the best performance"
   ]
  },
  {
   "cell_type": "code",
   "execution_count": null,
   "metadata": {},
   "outputs": [],
   "source": [
    "from magnetic_materials_2d.hyper_search import best_hyperparameters"
   ]
  },
  {
   "cell_type": "code",
   "execution_count": null,
   "metadata": {
    "colab": {
     "base_uri": "https://localhost:8080/",
     "height": 1000
    },
    "id": "LtVzqY2VPstF",
    "outputId": "4fb41131-0205-4832-bd63-b348209cefeb"
   },
   "outputs": [],
   "source": [
    "max_depth, n_estimators = best_hyperparameters(numeric_df,\n",
    "                                               best_formation_energy_descriptors_rf,\n",
    "                                               formation_energy_map[\"label\"])\n",
    "test_performance(numeric_df,\n",
    "                 best_formation_energy_descriptors_rf,\n",
    "                 formation_energy_map[\"unit\"],\n",
    "                 formation_energy_map[\"label\"],\n",
    "                 RandomForestRegressor(random_state = RANDOM_STATE,\n",
    "                                       max_depth = max_depth,\n",
    "                                       n_estimators = n_estimators))"
   ]
  },
  {
   "cell_type": "code",
   "execution_count": null,
   "metadata": {
    "colab": {
     "base_uri": "https://localhost:8080/",
     "height": 1000
    },
    "id": "qSsjWzwESZpw",
    "outputId": "008716ab-3834-4f67-c39a-42caa6cc2260"
   },
   "outputs": [],
   "source": [
    "max_depth, n_estimators = best_hyperparameters(numeric_df,\n",
    "                                               best_magnetic_moment_descriptors_rf,\n",
    "                                               magnetic_moment_map[\"label\"])\n",
    "test_performance(numeric_df,\n",
    "                 best_magnetic_moment_descriptors_rf,\n",
    "                 magnetic_moment_map[\"unit\"],\n",
    "                 magnetic_moment_map[\"label\"],\n",
    "                 RandomForestRegressor(random_state = RANDOM_STATE,\n",
    "                                       max_depth = max_depth,\n",
    "                                       n_estimators = n_estimators))"
   ]
  },
  {
   "cell_type": "markdown",
   "metadata": {
    "id": "bUVLI3WwA7mV"
   },
   "source": [
    "=====================================================================================\n",
    "\n",
    "CONGRATULATIONS!!! 👏\n",
    "\n",
    "You've completed the exercises and are well on your way to becoming an expert in materials informatics."
   ]
  }
 ],
 "metadata": {
  "colab": {
   "provenance": []
  },
  "kernelspec": {
   "display_name": "skpkg003rc",
   "language": "python",
   "name": "python3"
  },
  "language_info": {
   "codemirror_mode": {
    "name": "ipython",
    "version": 3
   },
   "file_extension": ".py",
   "mimetype": "text/x-python",
   "name": "python",
   "nbconvert_exporter": "python",
   "pygments_lexer": "ipython3",
   "version": "3.13.2"
  }
 },
 "nbformat": 4,
 "nbformat_minor": 0
}
